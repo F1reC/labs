{
 "cells": [
  {
   "cell_type": "markdown",
   "id": "fd178d7d",
   "metadata": {},
   "source": [
    "# 逻辑回归 API\n",
    "\n",
    "## 导入所需的包"
   ]
  },
  {
   "cell_type": "code",
   "execution_count": 1,
   "id": "bbfd6af4",
   "metadata": {},
   "outputs": [],
   "source": [
    "import numpy as np\n",
    "import pandas as pd\n",
    "from sklearn.model_selection import train_test_split #分割数据集\n",
    "from sklearn.linear_model import LogisticRegression #逻辑回归模型\n",
    "from sklearn.preprocessing import StandardScaler #特征标准化"
   ]
  },
  {
   "cell_type": "markdown",
   "id": "032f03b1",
   "metadata": {},
   "source": [
    "## 数据处理"
   ]
  },
  {
   "cell_type": "code",
   "execution_count": 3,
   "id": "a1de4d15",
   "metadata": {},
   "outputs": [],
   "source": [
    "# 1.获取数据集\n",
    "names = ['Sample code number', 'Clump Thickness', 'Uniformity of Cell Size', 'Uniformity of Cell Shape',\n",
    "         'Marginal Adhesion', 'Single Epithelial Cell Size', 'Bare Nuclei', 'Bland Chromatin',\n",
    "         'Normal Nucleoli', 'Mitoses', 'Class']\n",
    "data = pd.read_csv(\"https://archive.ics.uci.edu/ml/machine-learning-databases/breast-cancer-wisconsin/breast-cancer-wisconsin.data\",names=names)\n",
    "# print(data.head(5))"
   ]
  },
  {
   "cell_type": "code",
   "execution_count": 4,
   "id": "adf7f971",
   "metadata": {},
   "outputs": [],
   "source": [
    "# 2.缺省值处理\n",
    "data = data.replace(to_replace=\"?\", value=np.NaN)\n",
    "data = data.dropna()"
   ]
  },
  {
   "cell_type": "code",
   "execution_count": 5,
   "id": "aff7f9b3",
   "metadata": {},
   "outputs": [],
   "source": [
    "# 3.确顶特征值，目标值\n",
    "x = data.iloc[:, 1:10] #前:取行数，后:取列数  #从第2列到第10列 左闭右开\n",
    "# print(x.head(5))\n",
    "y = data[\"Class\"] # 取\"Class\"列作为y"
   ]
  },
  {
   "cell_type": "code",
   "execution_count": 6,
   "id": "6ceab3ff",
   "metadata": {},
   "outputs": [],
   "source": [
    "# 4，分割数据集\n",
    "# 用train_test_split函数划分出训练集和测试集，测试集占比0.2\n",
    "x_train, x_test, y_train, y_test = train_test_split(x, y, test_size=0.2,random_state=44)\n",
    "# X指数据样本集合，y指样本标签，random_state指随机数种子,用来保证每次划分出的测试集和数据集是一样的"
   ]
  },
  {
   "cell_type": "code",
   "execution_count": 7,
   "id": "2e0cb2af",
   "metadata": {},
   "outputs": [],
   "source": [
    "# 5，特征标准化\n",
    "transfer = StandardScaler()\n",
    "x_train = transfer.fit_transform(x_train)\n",
    "x_test = transfer.transform(x_test)"
   ]
  },
  {
   "cell_type": "markdown",
   "id": "62360d6f",
   "metadata": {},
   "source": [
    "## logisticRegression"
   ]
  },
  {
   "cell_type": "code",
   "execution_count": 9,
   "id": "dea8567a",
   "metadata": {},
   "outputs": [
    {
     "data": {
      "text/plain": [
       "LogisticRegression()"
      ]
     },
     "execution_count": 9,
     "metadata": {},
     "output_type": "execute_result"
    }
   ],
   "source": [
    "# predict（）：训练后返回一个概率值数组，此数组的大小为 n·k，第i行第j列上对应的数值代表模型对此样本属于某类标签的概率值，行和为1。\n",
    "# 例如预测结果为：[[0.66651809 0.53348191]，代表预测样本的标签是0的概率为0.66651809，1的概率为0.53348191。\n",
    "lr = LogisticRegression()\n",
    "lr.fit(x_train, y_train)"
   ]
  },
  {
   "cell_type": "code",
   "execution_count": 13,
   "id": "7f6e6c1c",
   "metadata": {},
   "outputs": [
    {
     "data": {
      "text/plain": [
       "array([2, 2, 2, 2, 2, 2, 2, 4, 4, 2, 4, 4, 4, 2, 2, 4, 4, 2, 2, 2, 2, 2,\n",
       "       2, 4, 4, 4, 4, 2, 4, 4, 2, 2, 2, 2, 2, 2, 2, 4, 4, 4, 2, 4, 4, 2,\n",
       "       4, 2, 2, 2, 4, 2, 2, 2, 2, 4, 2, 2, 2, 2, 2, 4, 4, 2, 2, 2, 4, 2,\n",
       "       4, 4, 4, 4, 2, 4, 2, 2, 2, 2, 2, 2, 4, 2, 4, 4, 2, 4, 4, 2, 2, 2,\n",
       "       2, 2, 4, 4, 4, 4, 4, 2, 2, 2, 4, 2, 2, 4, 2, 2, 4, 2, 2, 4, 2, 2,\n",
       "       2, 4, 2, 4, 2, 4, 2, 2, 2, 4, 2, 4, 2, 2, 2, 2, 2, 4, 4, 2, 2, 2,\n",
       "       2, 2, 2, 2, 2], dtype=int64)"
      ]
     },
     "execution_count": 13,
     "metadata": {},
     "output_type": "execute_result"
    }
   ],
   "source": [
    "y_predict = lr.predict(x_test)\n",
    "y_predict"
   ]
  },
  {
   "cell_type": "markdown",
   "id": "261a84f9",
   "metadata": {},
   "source": [
    "## 性能测评"
   ]
  },
  {
   "cell_type": "code",
   "execution_count": 10,
   "id": "58a002ec",
   "metadata": {},
   "outputs": [
    {
     "data": {
      "text/plain": [
       "0.9635036496350365"
      ]
     },
     "execution_count": 10,
     "metadata": {},
     "output_type": "execute_result"
    }
   ],
   "source": [
    "lr.score(x_test,y_test)"
   ]
  }
 ],
 "metadata": {
  "kernelspec": {
   "display_name": "Python 3",
   "language": "python",
   "name": "python3"
  },
  "language_info": {
   "codemirror_mode": {
    "name": "ipython",
    "version": 3
   },
   "file_extension": ".py",
   "mimetype": "text/x-python",
   "name": "python",
   "nbconvert_exporter": "python",
   "pygments_lexer": "ipython3",
   "version": "3.8.8"
  }
 },
 "nbformat": 4,
 "nbformat_minor": 5
}
