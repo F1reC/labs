{
 "cells": [
  {
   "cell_type": "markdown",
   "id": "4916c71e",
   "metadata": {},
   "source": [
    "# 线性回归 调用API"
   ]
  },
  {
   "cell_type": "markdown",
   "id": "f64b595d",
   "metadata": {},
   "source": [
    "## 导入包"
   ]
  },
  {
   "cell_type": "code",
   "execution_count": 3,
   "id": "deef09ff",
   "metadata": {},
   "outputs": [],
   "source": [
    "import numpy as np\n",
    "import pandas as pd\n",
    "from sklearn.model_selection import train_test_split\n",
    "from sklearn.linear_model import LinearRegression #线性回归\n",
    "from sklearn.preprocessing import StandardScaler\n",
    "from sklearn.metrics import mean_squared_error\n",
    "from sklearn.datasets import load_boston"
   ]
  },
  {
   "cell_type": "markdown",
   "id": "3b3e992d",
   "metadata": {},
   "source": [
    "## 数据集分割\n",
    "X是前13列特征，y是房价"
   ]
  },
  {
   "cell_type": "markdown",
   "id": "9e7e6e4c",
   "metadata": {},
   "source": [
    "Boston = load_boston()\n",
    "X = Boston.data  \n",
    "y = Boston.target"
   ]
  },
  {
   "cell_type": "markdown",
   "id": "6095700f",
   "metadata": {},
   "source": [
    "分割测试集，训练集，比例为1：4"
   ]
  },
  {
   "cell_type": "code",
   "execution_count": 5,
   "id": "45ef9811",
   "metadata": {},
   "outputs": [],
   "source": [
    "X_train,X_test,y_train,y_test = train_test_split(X,y,test_size=0.2,random_state=888)"
   ]
  },
  {
   "cell_type": "code",
   "execution_count": 6,
   "id": "b34b4d91",
   "metadata": {},
   "outputs": [
    {
     "data": {
      "text/plain": [
       "(404, 13)"
      ]
     },
     "execution_count": 6,
     "metadata": {},
     "output_type": "execute_result"
    }
   ],
   "source": [
    "X_train.shape"
   ]
  },
  {
   "cell_type": "code",
   "execution_count": 7,
   "id": "2195a583",
   "metadata": {},
   "outputs": [
    {
     "data": {
      "text/plain": [
       "(404,)"
      ]
     },
     "execution_count": 7,
     "metadata": {},
     "output_type": "execute_result"
    }
   ],
   "source": [
    "y_train.shape"
   ]
  },
  {
   "cell_type": "markdown",
   "id": "8d6c38e0",
   "metadata": {},
   "source": [
    "## 回归预测"
   ]
  },
  {
   "cell_type": "code",
   "execution_count": 8,
   "id": "5acfc1c0",
   "metadata": {},
   "outputs": [],
   "source": [
    "lin_reg = LinearRegression()"
   ]
  },
  {
   "cell_type": "markdown",
   "id": "f78124b9",
   "metadata": {},
   "source": [
    "在训练集拟合"
   ]
  },
  {
   "cell_type": "code",
   "execution_count": 9,
   "id": "5b18202e",
   "metadata": {},
   "outputs": [
    {
     "data": {
      "text/plain": [
       "LinearRegression()"
      ]
     },
     "execution_count": 9,
     "metadata": {},
     "output_type": "execute_result"
    }
   ],
   "source": [
    "lin_reg.fit(X_train,y_train)"
   ]
  },
  {
   "cell_type": "markdown",
   "id": "b6bcffea",
   "metadata": {},
   "source": [
    "对测试集评估"
   ]
  },
  {
   "cell_type": "code",
   "execution_count": 10,
   "id": "487413df",
   "metadata": {},
   "outputs": [
    {
     "data": {
      "text/plain": [
       "0.755893222063329"
      ]
     },
     "execution_count": 10,
     "metadata": {},
     "output_type": "execute_result"
    }
   ],
   "source": [
    "lin_reg.score(X_test,y_test)"
   ]
  },
  {
   "cell_type": "markdown",
   "id": "fc7f3a0d",
   "metadata": {},
   "source": [
    "对测试集的特征预测得到的房价"
   ]
  },
  {
   "cell_type": "code",
   "execution_count": 34,
   "id": "1df2871a",
   "metadata": {},
   "outputs": [
    {
     "data": {
      "text/plain": [
       "array([22.17123289, 35.55703211, 20.8943971 , 20.19609888, 20.02689174,\n",
       "       21.21700868, 30.82764123, 28.81457412, 24.62625139, 12.51737207,\n",
       "       21.66809395, 26.01419263, 20.34518116, 23.2663366 , 22.11437669,\n",
       "       13.07554361, 17.13768497, 21.97900546, 27.3708199 , 28.01916788,\n",
       "       24.41448177, 34.36001821, 23.94274892, 26.83103321, 33.1323688 ,\n",
       "       13.13104618, 20.66162225, 17.3953725 , 24.90599552, 25.93687134,\n",
       "       25.43031713, 24.81956864, 17.66949657, 13.13904413, 22.14029635,\n",
       "       35.50302904, 16.23087515, 19.89717175, 23.06369597, 20.00735812,\n",
       "       32.84777096, 25.7275347 , 30.95015644, 23.70226829, 21.41232494,\n",
       "       13.11049316, 33.15680287, 20.24535073, -5.21091931, 27.52962052,\n",
       "       25.0985891 , 13.96531508, 14.09019168, 27.38604613, 14.21771639,\n",
       "       25.46457847, 17.74201965, 19.33771417, 35.67022047, 26.05415131,\n",
       "       32.57600176, 24.56533259, 31.75366611, 28.13798769, 31.05895476,\n",
       "       24.53318847, 23.37137553, 30.55484544, 32.28276335, 20.8739582 ,\n",
       "       24.73484582, 19.61125447, 36.94909625, 41.49006389, 23.0520405 ,\n",
       "       18.45466235, 15.93100182, 36.026834  , 14.71237394,  5.08946136,\n",
       "       10.76502268, 30.20968135,  2.2021625 , 26.25917493, 30.30408703,\n",
       "       22.44745919, -0.433392  , 13.18002787, 33.63212884, 14.98805835,\n",
       "       17.08333507, 42.66871032, 23.82307954, 22.52783591, 28.80958572,\n",
       "       20.59345662, 12.73271651, 16.76890465, 26.39741601, 24.49422183,\n",
       "       24.93537084, 43.81773618])"
      ]
     },
     "execution_count": 34,
     "metadata": {},
     "output_type": "execute_result"
    }
   ],
   "source": [
    "test_pred = lin_reg.predict(X_test)\n",
    "test_pred"
   ]
  },
  {
   "cell_type": "markdown",
   "id": "c97cb2f1",
   "metadata": {},
   "source": [
    "真实的房价"
   ]
  },
  {
   "cell_type": "code",
   "execution_count": 15,
   "id": "b587724b",
   "metadata": {},
   "outputs": [
    {
     "data": {
      "text/plain": [
       "array([22.4, 32.4, 21.7, 24.5, 16.8, 21.1, 29.4, 28.7, 21.5, 13.6, 21.4,\n",
       "       24.8, 16.8, 19.4, 21.7, 17.2, 17.1, 18.7, 22.3, 25. , 24.4, 34.6,\n",
       "       20.1, 22.3, 26.7, 15.6, 19.5, 14.3, 22.7, 21.6, 25. , 24.7, 17.8,\n",
       "       12.7, 22.7, 46.7, 20.2, 27.1, 25. , 19.9, 32. , 23.2, 32.2, 19.2,\n",
       "       21. , 13.4, 31.6, 16.7,  7. , 24.5, 24.2, 11.5, 10.9, 22. , 15.7,\n",
       "       25.3, 14.9, 15. , 33.4, 28.7, 50. , 25. , 29.9, 26.6, 28.7, 20.5,\n",
       "       23. , 37. , 30.3, 16.2, 22.2, 19.9, 36. , 48.5, 26.4, 19.8, 17.8,\n",
       "       38.7, 11.7, 13.8, 15.2, 30.1,  8.1, 30.1, 24. , 17.8, 13.8,  7.5,\n",
       "       41.3, 20.1, 13.9, 50. , 20.3, 22.6, 25. , 20.5, 12.8, 19.5, 22. ,\n",
       "       19.1, 24.6, 50. ])"
      ]
     },
     "execution_count": 15,
     "metadata": {},
     "output_type": "execute_result"
    }
   ],
   "source": [
    "y_test"
   ]
  },
  {
   "cell_type": "markdown",
   "id": "845cec8a",
   "metadata": {},
   "source": [
    "## 模型评估\n",
    "计算MSE"
   ]
  },
  {
   "cell_type": "code",
   "execution_count": 20,
   "id": "d37e5d7d",
   "metadata": {},
   "outputs": [],
   "source": [
    "# 残差\n",
    "deviation = lin_reg.predict(X_test) - y_test"
   ]
  },
  {
   "cell_type": "code",
   "execution_count": 21,
   "id": "19e47c13",
   "metadata": {},
   "outputs": [
    {
     "data": {
      "text/plain": [
       "3.143244028934462"
      ]
     },
     "execution_count": 21,
     "metadata": {},
     "output_type": "execute_result"
    }
   ],
   "source": [
    "MSE = np.sum(np.sqrt(deviation * deviation))/102\n",
    "MSE"
   ]
  },
  {
   "cell_type": "markdown",
   "id": "fa5067b3",
   "metadata": {},
   "source": [
    "## 数据可视化"
   ]
  },
  {
   "cell_type": "code",
   "execution_count": 35,
   "id": "b3594551",
   "metadata": {},
   "outputs": [
    {
     "data": {
      "image/png": "[encoded data removed]",
      "text/plain": [
       "<Figure size 432x288 with 1 Axes>"
      ]
     },
     "metadata": {},
     "output_type": "display_data"
    }
   ],
   "source": [
    "import matplotlib as mpl\n",
    "#对测试集上的标注值与预测值进行可视化呈现   \n",
    "t = np.arange(len(y_test))\n",
    "mpl.rcParams['font.sans-serif'] = [u'simHei']\n",
    "mpl.rcParams['axes.unicode_minus'] = False\n",
    "plt.figure(facecolor='w')\n",
    "plt.plot(t, y_test, 'r-', lw=2, label=u'true value')\n",
    "plt.plot(t, test_pred, 'b-', lw=2, label=u'estimated')\n",
    "plt.legend(loc = 'best')\n",
    "plt.title(u'Boston house price', fontsize=18)\n",
    "plt.xlabel(u'case id', fontsize=15)\n",
    "plt.ylabel(u'house price', fontsize=15)\n",
    "plt.grid()\n",
    "plt.show()"
   ]
  }
 ],
 "metadata": {
  "kernelspec": {
   "display_name": "Python 3",
   "language": "python",
   "name": "python3"
  },
  "language_info": {
   "codemirror_mode": {
    "name": "ipython",
    "version": 3
   },
   "file_extension": ".py",
   "mimetype": "text/x-python",
   "name": "python",
   "nbconvert_exporter": "python",
   "pygments_lexer": "ipython3",
   "version": "3.8.8"
  }
 },
 "nbformat": 4,
 "nbformat_minor": 5
}
