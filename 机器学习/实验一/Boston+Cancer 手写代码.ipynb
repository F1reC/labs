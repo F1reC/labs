{
 "cells": [
  {
   "cell_type": "markdown",
   "id": "efcbdd95",
   "metadata": {},
   "source": [
    "# 线性回归 手写"
   ]
  },
  {
   "cell_type": "markdown",
   "id": "aebf6d3e",
   "metadata": {},
   "source": [
    "## 导入所需要的包"
   ]
  },
  {
   "cell_type": "code",
   "execution_count": 1,
   "id": "d102555e",
   "metadata": {},
   "outputs": [],
   "source": [
    "import numpy as np \n",
    "import pandas as pd \n",
    "import matplotlib.pyplot as plt"
   ]
  },
  {
   "cell_type": "markdown",
   "id": "b816aa04",
   "metadata": {},
   "source": [
    "## 读取数据集并进行划分"
   ]
  },
  {
   "cell_type": "code",
   "execution_count": 7,
   "id": "5059089b",
   "metadata": {},
   "outputs": [
    {
     "name": "stdout",
     "output_type": "stream",
     "text": [
      "划分完成\n",
      "506 100 406\n"
     ]
    },
    {
     "data": {
      "text/plain": [
       "(506, 100, 406)"
      ]
     },
     "execution_count": 7,
     "metadata": {},
     "output_type": "execute_result"
    }
   ],
   "source": [
    "import random\n",
    "def divideList(f1Name,f2Name,f3Name):\n",
    "    #n1=random.randint(0,9)\n",
    "    #n2=random.randint(0,9)\n",
    "    #while n1==n2:\n",
    "        #n2=random.randint(0,9)\n",
    "    n1,n2=8,9\n",
    "    origin=open(f1Name,'r')\n",
    "    trainList=open(f2Name,'w')\n",
    "    testList=open(f3Name,'w')\n",
    "    totalNum,trainNum,testNum=0,0,0\n",
    "    line=origin.readline()\n",
    "    while line:\n",
    "        totalNum+=1\n",
    "        if totalNum%10==n1 or totalNum%10==n2:\n",
    "            testNum+=1\n",
    "            testList.write(line)\n",
    "        else:\n",
    "            trainNum+=1\n",
    "            trainList.write(line)\n",
    "        line=origin.readline()\n",
    "    origin.close()\n",
    "    trainList.close()\n",
    "    testList.close()\n",
    "    print(\"划分完成\")\n",
    "    print(totalNum,testNum,trainNum)\n",
    "    return totalNum,testNum,trainNum\n",
    "        \n",
    "divideList(\"D:\\A_University\\Study\\机器学习\\实验一 线性模型-实验\\实验一 线性模型 数据集\\housing-data.csv\",\"train_house.list\",\"test_house.list\")"
   ]
  },
  {
   "cell_type": "markdown",
   "id": "2a19252b",
   "metadata": {},
   "source": [
    "## 定义预测函数与损失函数"
   ]
  },
  {
   "cell_type": "code",
   "execution_count": 3,
   "id": "c0ec3f56",
   "metadata": {},
   "outputs": [
    {
     "name": "stdout",
     "output_type": "stream",
     "text": [
      "(406, 14) (406, 1)\n",
      "matrix prepared\n"
     ]
    }
   ],
   "source": [
    "#最小二乘,损失函数为平方和损失函数，代价函数为样本的损失函数之和（残差平方和）\n",
    "#读取训练集建立矩阵\n",
    "def createMatrix(n:int):\n",
    "    trainList=open('train_house.list','r')\n",
    "    line=trainList.readline()\n",
    "    tempMatrix=[]\n",
    "    tempMatrixY=[]\n",
    "    while line:\n",
    "        #print(line)\n",
    "        lineList=line.split()\n",
    "        #print(lineList)\n",
    "        numLineList=[]\n",
    "        numLineList.append(1)\n",
    "        for i in range(n):\n",
    "            numLineList.append(float(lineList[i]))\n",
    "        tempMatrixY.append(float(lineList[n]))\n",
    "        tempMatrix.append(numLineList[:])\n",
    "        line=trainList.readline()\n",
    "    Matrix=np.array(tempMatrix)\n",
    "    MatrixY=[]\n",
    "    MatrixY.append(tempMatrixY)\n",
    "    MatrixY=np.array(MatrixY)\n",
    "    MatrixY=MatrixY.transpose()\n",
    "    trainList.close()\n",
    "    return Matrix,MatrixY\n",
    "Matrix,MatrixY=createMatrix(13)\n",
    "#print(Matrix)\n",
    "#print(MatrixY)\n",
    "print(Matrix.shape,MatrixY.shape)\n",
    "print(\"matrix prepared\")"
   ]
  },
  {
   "cell_type": "markdown",
   "id": "a1882078",
   "metadata": {},
   "source": [
    "## 存储"
   ]
  },
  {
   "cell_type": "code",
   "execution_count": 8,
   "id": "a1982e5c",
   "metadata": {},
   "outputs": [
    {
     "name": "stdout",
     "output_type": "stream",
     "text": [
      "[[ 3.03260503e+01]\n",
      " [-1.06603210e-01]\n",
      " [ 5.33266355e-02]\n",
      " [ 1.95627446e-02]\n",
      " [ 3.12350801e+00]\n",
      " [-1.76209205e+01]\n",
      " [ 4.23819368e+00]\n",
      " [-1.62381880e-03]\n",
      " [-1.43234015e+00]\n",
      " [ 2.80944461e-01]\n",
      " [-1.15857591e-02]\n",
      " [-8.26448023e-01]\n",
      " [ 1.04721358e-02]\n",
      " [-4.98279620e-01]]\n"
     ]
    }
   ],
   "source": [
    "#求出系数矩阵w并存储\n",
    "def getModulus(X,Y):\n",
    "    XT=X.transpose()\n",
    "    w=np.matmul(np.matmul(np.linalg.inv(np.matmul(XT,X)),XT),Y)\n",
    "    np.savetxt(\"house_module.csv\",w,delimiter=',')\n",
    "    return w\n",
    "w=getModulus(Matrix,MatrixY)\n",
    "print(w)"
   ]
  },
  {
   "cell_type": "markdown",
   "id": "71fe770e",
   "metadata": {},
   "source": [
    "## 模型评估"
   ]
  },
  {
   "cell_type": "code",
   "execution_count": 9,
   "id": "066146f0",
   "metadata": {
    "scrolled": true
   },
   "outputs": [
    {
     "name": "stdout",
     "output_type": "stream",
     "text": [
      "结果\n",
      "[19.230639754715316, 11.256835615359188, 17.028868364729643, 15.958932966261179, 14.818448520293858, 19.812088882760452, 22.823165539490805, 22.733499212798357, 17.90603251497334, 9.013741662145339, 33.44433040010851, 21.912893886060694, 21.088181067422205, 17.372059985751353, 23.23054510053417, 21.250681301359606, 25.600830071600186, 30.56475655201793, 36.143443869556556, 35.43938607963793, 20.82791973838014, 22.82077721603875, 23.2848864772496, 19.946124592314423, 15.222799772861878, 19.251376566122968, 19.66230290720322, 14.028111111114303, 7.713063246069102, 8.962871120342346, 32.60234124223507, 28.023652103990596, 22.082383800820747, 25.587522922558104, 28.57094157471051, 31.094662648592525, 33.36216661720469, 32.24514732184633, 32.84765102448311, 34.94199184021854, 17.66527421532308, 23.789120789056913, 27.948732171223146, 24.82921972146062, 32.182842240741586, 35.55807970513463, 32.62452203181156, 28.33847811651492, 19.958078010012798, 21.514638438979766, 43.30485995636287, 35.93588421918691, 40.785519392553546, 38.85578034962575, 35.42777524924723, 30.39825558611735, 27.04324906710765, 27.23930188569258, 19.091523934930247, 29.09950141305045, 32.752943165107105, 28.40531366700132, 18.130718714109406, 24.141953293408793, 19.374797737902437, 20.84754686681005, 19.182280590490045, 22.098556848798808, 25.92854728755909, 28.024973857595906, 23.0106237905033, 22.36621147848077, 9.23237464777049, 22.672422883632912, 20.40325234316139, 15.918069805834774, 5.356066611719712, 6.04102011453705, 16.03086304352164, 6.441605970712016, 19.32434963453592, 13.407177051272212, 6.316959897855692, 5.609203664069081, 13.484194641854753, 13.90034266714693, 8.442322448797945, 4.688635271425283, 17.979656711248808, 17.390367798073388, 12.217073906788485, 16.96844916501874, 16.746235016808985, 16.793996218938318, 11.151770956817831, 19.041920275476386, 21.009114335808103, 11.89113423715418, 18.8953677812761, 21.14133645645575]\n",
      "均方差\n",
      "23.730581522853353\n"
     ]
    }
   ],
   "source": [
    "#计算结果并算出均方差\n",
    "def testModulus(w,n,trainNum):\n",
    "    squareSum=0\n",
    "    w=w.transpose()\n",
    "    testList=open('test_house.list','r')\n",
    "    line=testList.readline()\n",
    "    result=[]\n",
    "    while line:\n",
    "        lineList=line.split()\n",
    "        trueY=float(lineList[n])\n",
    "        x=[]\n",
    "        tx=[1]\n",
    "        for i in range(n):\n",
    "            tx.append(float(lineList[i]))\n",
    "        x.append(tx)\n",
    "        x=np.array(x).transpose()\n",
    "        y=np.matmul(w,x).tolist()[0][0]\n",
    "        #print(y)\n",
    "        result.append(y)\n",
    "        squareSum+=(trueY-y)*(trueY-y)\n",
    "        line=testList.readline()\n",
    "        MeanSquareError=squareSum/trainNum\n",
    "    return result,MeanSquareError\n",
    "result,MeanSquareError=testModulus(w,13,102)\n",
    "print(\"结果\")\n",
    "print(result)\n",
    "print(\"均方差\")\n",
    "print(MeanSquareError)"
   ]
  },
  {
   "cell_type": "markdown",
   "id": "a1b45831",
   "metadata": {},
   "source": [
    "## 逻辑回归 手写"
   ]
  },
  {
   "cell_type": "markdown",
   "id": "e25e685b",
   "metadata": {},
   "source": [
    "## 缺省值处理"
   ]
  },
  {
   "cell_type": "code",
   "execution_count": 5,
   "id": "71938c00",
   "metadata": {},
   "outputs": [
    {
     "name": "stdout",
     "output_type": "stream",
     "text": [
      "683 16\n"
     ]
    }
   ],
   "source": [
    "#由于存在缺项，所以进行数据清洗，并删除不需要的编号\n",
    "def data_Wash(fileName:str):\n",
    "    originFile=open(fileName,'r')\n",
    "    dataAfterWash=open('dataAfterWash.txt','w')\n",
    "    line=originFile.readline()\n",
    "    numData,numLoseData=0,0\n",
    "    while line:\n",
    "        if '?' in line:\n",
    "            numLoseData+=1\n",
    "        else:\n",
    "            index=line.find(',')\n",
    "            line=line[index+1:]\n",
    "            dataAfterWash.write(line)\n",
    "            numData+=1\n",
    "        line=originFile.readline()\n",
    "    originFile.close()\n",
    "    dataAfterWash.close()\n",
    "    print(numData,numLoseData)\n",
    "data_Wash('breast-cancer-wisconsin.data')"
   ]
  },
  {
   "cell_type": "markdown",
   "id": "2a85bcd7",
   "metadata": {},
   "source": [
    "## 划分数据集"
   ]
  },
  {
   "cell_type": "code",
   "execution_count": 8,
   "id": "74334b23",
   "metadata": {
    "scrolled": true
   },
   "outputs": [
    {
     "name": "stdout",
     "output_type": "stream",
     "text": [
      "划分完成\n",
      "683 136 547\n"
     ]
    },
    {
     "data": {
      "text/plain": [
       "(683, 136, 547)"
      ]
     },
     "execution_count": 8,
     "metadata": {},
     "output_type": "execute_result"
    }
   ],
   "source": [
    "divideList('dataAfterWash.txt','cancerTrain.list','cancerTest.list')"
   ]
  },
  {
   "cell_type": "markdown",
   "id": "cb1deeb7",
   "metadata": {},
   "source": [
    "## 逻辑回归"
   ]
  },
  {
   "cell_type": "code",
   "execution_count": 48,
   "id": "0ac5edb6",
   "metadata": {},
   "outputs": [
    {
     "name": "stdout",
     "output_type": "stream",
     "text": [
      "[5.963701357054275, -1.8713671930762037, -2.1970458302291203, -2.1805435651659626, -1.5179412579220435, -0.8237262079624859, -3.2001096245625456, -1.4115810881402475, -1.8360851544711918, -0.7396805773402622]\n",
      "训练时长\n",
      "102.59360551834106\n"
     ]
    },
    {
     "data": {
      "image/png": "[encoded data removed]",
      "text/plain": [
       "<Figure size 640x480 with 1 Axes>"
      ]
     },
     "metadata": {},
     "output_type": "display_data"
    }
   ],
   "source": [
    "#建立模型，采用批量梯度下降BGD\n",
    "import time\n",
    "import math\n",
    "def getModule2(learningRate=0.1,trainingRound=3000,file='cancerTrain.list',dimension=9,normalization=True)->str:\n",
    "    time_start=time.time()\n",
    "    #print(\"hello\")\n",
    "    #建立列表存储每行向量和结果，设2号种类发生概率为y\n",
    "    Arrays=[]\n",
    "    types=[]\n",
    "    TrainFile=open(file,'r')\n",
    "    line=TrainFile.readline()\n",
    "\n",
    "    while line:\n",
    "        #print(line)\n",
    "        tempArray1,tempArray2=[],[1]\n",
    "        Array=line.split(',')\n",
    "        for i in range(dimension):\n",
    "            element=float(Array[i])\n",
    "            if normalization:\n",
    "                element/=10\n",
    "            tempArray2.append(element)\n",
    "        types.append(float(Array[dimension]))\n",
    "        tempArray1.append(tempArray2)\n",
    "        #print(np.array(tempArray1).shape)\n",
    "        Arrays.append(np.array(tempArray1))\n",
    "        line=TrainFile.readline()\n",
    "    TrainFile.close()\n",
    "    w=[0.1]*(dimension+1)\n",
    "    Loss=[]\n",
    "    #损失函数为交叉熵\n",
    "    for i in range(trainingRound):\n",
    "        tw=w[:]\n",
    "        #print(tw)\n",
    "        #迭代w\n",
    "        for j in range(dimension+1):\n",
    "            tempSum=0\n",
    "            for k in range(len(types)):\n",
    "                yi=1 if types[k]==2 else 0\n",
    "                #print(yi)\n",
    "                #print(np.matmul(np.array([tw]),Arrays[k].T)[0][0])\n",
    "                hx=1/(1+math.e**(-np.matmul(np.array([w]),Arrays[k].T)[0][0]))\n",
    "                #print(hx)\n",
    "                tempSum+=(hx-yi)*Arrays[k][0][j]\n",
    "            w[j]-=learningRate*(1/len(types))*tempSum\n",
    "        #计算每一轮的J(w)\n",
    "        sumForJw=0\n",
    "        for k in range(len(types)):\n",
    "            yi=1 if types[k]==2 else 0\n",
    "            hx=1/(1+math.e**(-np.matmul(np.array([w]),Arrays[k].T)[0][0]))\n",
    "            sumForJw+=yi*math.log(hx)+(1-yi)*math.log(1-hx)\n",
    "        Jw=-(1/len(types))*sumForJw\n",
    "        Loss.append(Jw)\n",
    "    print(w)\n",
    "    #画出损失率的折线图\n",
    "    #print(Loss)\n",
    "    plt.plot([i for i in range(trainingRound)],Loss)\n",
    "    with open(\"modulusOfQ2.txt\",'w') as f:\n",
    "        f.write(str(w))\n",
    "    time_end=time.time()\n",
    "    print(\"训练时长\")\n",
    "    print(time_end-time_start)\n",
    "getModule2()"
   ]
  },
  {
   "cell_type": "markdown",
   "id": "703a69e1",
   "metadata": {},
   "source": [
    "## 模型评估"
   ]
  },
  {
   "cell_type": "code",
   "execution_count": 64,
   "id": "8a0df9a2",
   "metadata": {},
   "outputs": [
    {
     "name": "stdout",
     "output_type": "stream",
     "text": [
      "93 1 1 41\n",
      "0.9852941176470589 0.9893617021276596 0.9893617021276596\n"
     ]
    }
   ],
   "source": [
    "#对测试集进行检验并判断误差（精度acc，查全率R，查准率p）\n",
    "def testModulus2(normalization=True,dimension=9):\n",
    "    TP,FN,FP,TN=0,0,0,0\n",
    "    with open('modulusOfQ2.txt','r') as f:\n",
    "        w=eval(f.readline())\n",
    "    w=np.array([w])\n",
    "    testFile=open('cancerTest.list','r')\n",
    "    line=testFile.readline()\n",
    "    num=0\n",
    "    while line:\n",
    "        num+=1\n",
    "        lineList=line.split(',')\n",
    "        x=[1]\n",
    "        for i in range(dimension):\n",
    "            element=float(lineList[i])\n",
    "            if normalization:\n",
    "                element/=10\n",
    "            x.append(element)\n",
    "        y=int(lineList[dimension])\n",
    "        x=np.array([x])\n",
    "        possible=1/(1+math.e**(-np.matmul(w,x.T)))\n",
    "        ty=2 if possible>=0.5 else 4\n",
    "        if ty==2 and y==2:\n",
    "            TP+=1\n",
    "        elif y==2 and ty==4:\n",
    "            FN+=1\n",
    "        elif y==4 and ty==2:\n",
    "            FP+=1\n",
    "        else:\n",
    "            TN+=1\n",
    "        line=testFile.readline()\n",
    "    acc=(TP+TN)/float(num)\n",
    "    p=float(TP)/(TP+FP)\n",
    "    R=float(TP)/(TP+FN)\n",
    "    print(TP,FN,FP,TN)\n",
    "    print(acc,p,R)\n",
    "    testFile.close()\n",
    "testModulus2()"
   ]
  }
 ],
 "metadata": {
  "kernelspec": {
   "display_name": "Python 3",
   "language": "python",
   "name": "python3"
  },
  "language_info": {
   "codemirror_mode": {
    "name": "ipython",
    "version": 3
   },
   "file_extension": ".py",
   "mimetype": "text/x-python",
   "name": "python",
   "nbconvert_exporter": "python",
   "pygments_lexer": "ipython3",
   "version": "3.8.8"
  }
 },
 "nbformat": 4,
 "nbformat_minor": 5
}
