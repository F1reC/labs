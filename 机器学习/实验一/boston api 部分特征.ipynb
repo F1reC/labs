{
 "cells": [
  {
   "cell_type": "markdown",
   "id": "e62dd7f0",
   "metadata": {},
   "source": [
    "# 线性回归 调用API 选取部分特征"
   ]
  },
  {
   "cell_type": "markdown",
   "id": "3d41b410",
   "metadata": {},
   "source": [
    "## 导入包"
   ]
  },
  {
   "cell_type": "code",
   "execution_count": 77,
   "id": "7b58d6ee",
   "metadata": {},
   "outputs": [],
   "source": [
    "import numpy as np\n",
    "import pandas as pd\n",
    "from sklearn.model_selection import train_test_split\n",
    "from sklearn.linear_model import LinearRegression #线性回归\n",
    "from sklearn.preprocessing import StandardScaler\n",
    "from sklearn.metrics import mean_squared_error\n",
    "from sklearn.datasets import load_boston\n",
    "from sklearn.feature_selection import VarianceThreshold"
   ]
  },
  {
   "cell_type": "markdown",
   "id": "e59f4fe2",
   "metadata": {},
   "source": [
    "## 数据集分割\n",
    "X是前13列特征，y是房价"
   ]
  },
  {
   "cell_type": "code",
   "execution_count": 91,
   "id": "42b3e625",
   "metadata": {},
   "outputs": [],
   "source": [
    "Boston = load_boston()\n",
    "X = Boston.data  \n",
    "y = Boston.target"
   ]
  },
  {
   "cell_type": "markdown",
   "id": "5d348838",
   "metadata": {},
   "source": [
    "### 表示舍弃所有方差小于1的特征"
   ]
  },
  {
   "cell_type": "code",
   "execution_count": 92,
   "id": "54473a9a",
   "metadata": {},
   "outputs": [
    {
     "data": {
      "text/plain": [
       "(506, 10)"
      ]
     },
     "execution_count": 92,
     "metadata": {},
     "output_type": "execute_result"
    }
   ],
   "source": [
    "selector = VarianceThreshold(1)\n",
    "X_var0 = selector.fit_transform(X)\n",
    "X_var0.shape"
   ]
  },
  {
   "cell_type": "markdown",
   "id": "470afb47",
   "metadata": {},
   "source": [
    "分割测试集，训练集，比例为1：4"
   ]
  },
  {
   "cell_type": "code",
   "execution_count": 93,
   "id": "ad6fbd24",
   "metadata": {},
   "outputs": [],
   "source": [
    "X_train,X_test,y_train,y_test = train_test_split(X_var0,y,test_size=0.2,random_state=888)"
   ]
  },
  {
   "cell_type": "code",
   "execution_count": 94,
   "id": "b93eb521",
   "metadata": {},
   "outputs": [
    {
     "data": {
      "text/plain": [
       "(404, 10)"
      ]
     },
     "execution_count": 94,
     "metadata": {},
     "output_type": "execute_result"
    }
   ],
   "source": [
    "X_train.shape"
   ]
  },
  {
   "cell_type": "code",
   "execution_count": 95,
   "id": "a2a3b6e4",
   "metadata": {},
   "outputs": [
    {
     "data": {
      "text/plain": [
       "(404,)"
      ]
     },
     "execution_count": 95,
     "metadata": {},
     "output_type": "execute_result"
    }
   ],
   "source": [
    "y_train.shape"
   ]
  },
  {
   "cell_type": "markdown",
   "id": "030944a8",
   "metadata": {},
   "source": [
    "## 回归预测"
   ]
  },
  {
   "cell_type": "code",
   "execution_count": 96,
   "id": "503974c4",
   "metadata": {},
   "outputs": [],
   "source": [
    "lin_reg = LinearRegression()"
   ]
  },
  {
   "cell_type": "markdown",
   "id": "538c29f1",
   "metadata": {},
   "source": [
    "在训练集拟合"
   ]
  },
  {
   "cell_type": "code",
   "execution_count": 97,
   "id": "8965cdf5",
   "metadata": {},
   "outputs": [
    {
     "data": {
      "text/plain": [
       "LinearRegression()"
      ]
     },
     "execution_count": 97,
     "metadata": {},
     "output_type": "execute_result"
    }
   ],
   "source": [
    "lin_reg.fit(X_train,y_train)"
   ]
  },
  {
   "cell_type": "markdown",
   "id": "0f93313b",
   "metadata": {},
   "source": [
    "对测试集评估\n",
    "### 结果0.6703055202990076小于0.755893222063329（全部特征预测）"
   ]
  },
  {
   "cell_type": "code",
   "execution_count": 98,
   "id": "fa65360a",
   "metadata": {},
   "outputs": [
    {
     "data": {
      "text/plain": [
       "0.6703055202990076"
      ]
     },
     "execution_count": 98,
     "metadata": {},
     "output_type": "execute_result"
    }
   ],
   "source": [
    "lin_reg.score(X_test,y_test)"
   ]
  },
  {
   "cell_type": "markdown",
   "id": "e5526974",
   "metadata": {},
   "source": [
    "对测试集的特征预测得到的房价"
   ]
  },
  {
   "cell_type": "code",
   "execution_count": 99,
   "id": "704cf691",
   "metadata": {},
   "outputs": [
    {
     "data": {
      "text/plain": [
       "array([19.74917836, 33.62289917, 21.47085144, 21.16854662, 21.15438659,\n",
       "       24.1055678 , 31.85988585, 28.39665121, 22.12418764, 13.2753632 ,\n",
       "       21.44961075, 26.72640443, 21.15298114, 24.49689913, 19.20866197,\n",
       "       11.10897137, 16.49685421, 24.90545364, 28.20724796, 28.66021463,\n",
       "       24.5140849 , 32.0680795 , 24.35164249, 26.27940752, 29.56918298,\n",
       "       13.16793485, 23.71173681, 17.50317326, 26.1787277 , 27.54628687,\n",
       "       26.36433963, 26.67358347, 17.62545164, 14.30230693, 22.94235554,\n",
       "       32.40809095, 19.57758319, 19.09584697, 22.37117945, 18.5266018 ,\n",
       "       31.66097631, 27.51909595, 28.93740589, 24.8338167 , 21.98118376,\n",
       "       10.90025436, 34.68509704, 17.47339194, -4.02150942, 28.79666777,\n",
       "       23.63429533, 16.03684064, 15.18412063, 24.99026848, 11.92159478,\n",
       "       26.63710907, 17.92324348, 17.41920805, 34.33998761, 27.85063967,\n",
       "       31.38654269, 24.85259985, 31.59429004, 28.02695913, 30.01916596,\n",
       "       25.91189311, 22.29062086, 29.26823185, 30.07033607, 23.52617169,\n",
       "       26.18831651, 22.61926004, 37.65708419, 38.75864268, 26.0428238 ,\n",
       "       19.46422246, 13.88635445, 31.20707281, 15.6629254 ,  4.36045467,\n",
       "        8.63199608, 30.74383984, -1.80247301, 28.5110415 , 32.34685212,\n",
       "       18.5772549 ,  0.80295332,  8.79350386, 32.95979623, 12.18235065,\n",
       "       13.29602901, 39.523532  , 25.83488665, 23.25901934, 29.28031239,\n",
       "       21.26265185, 13.93175956, 16.20763442, 26.63442387, 25.68667813,\n",
       "       25.9004037 , 38.45245806])"
      ]
     },
     "execution_count": 99,
     "metadata": {},
     "output_type": "execute_result"
    }
   ],
   "source": [
    "test_pred = lin_reg.predict(X_test)\n",
    "test_pred"
   ]
  },
  {
   "cell_type": "markdown",
   "id": "897a8ca8",
   "metadata": {},
   "source": [
    "真实的房价"
   ]
  },
  {
   "cell_type": "code",
   "execution_count": 100,
   "id": "bd5c7863",
   "metadata": {},
   "outputs": [
    {
     "data": {
      "text/plain": [
       "array([22.4, 32.4, 21.7, 24.5, 16.8, 21.1, 29.4, 28.7, 21.5, 13.6, 21.4,\n",
       "       24.8, 16.8, 19.4, 21.7, 17.2, 17.1, 18.7, 22.3, 25. , 24.4, 34.6,\n",
       "       20.1, 22.3, 26.7, 15.6, 19.5, 14.3, 22.7, 21.6, 25. , 24.7, 17.8,\n",
       "       12.7, 22.7, 46.7, 20.2, 27.1, 25. , 19.9, 32. , 23.2, 32.2, 19.2,\n",
       "       21. , 13.4, 31.6, 16.7,  7. , 24.5, 24.2, 11.5, 10.9, 22. , 15.7,\n",
       "       25.3, 14.9, 15. , 33.4, 28.7, 50. , 25. , 29.9, 26.6, 28.7, 20.5,\n",
       "       23. , 37. , 30.3, 16.2, 22.2, 19.9, 36. , 48.5, 26.4, 19.8, 17.8,\n",
       "       38.7, 11.7, 13.8, 15.2, 30.1,  8.1, 30.1, 24. , 17.8, 13.8,  7.5,\n",
       "       41.3, 20.1, 13.9, 50. , 20.3, 22.6, 25. , 20.5, 12.8, 19.5, 22. ,\n",
       "       19.1, 24.6, 50. ])"
      ]
     },
     "execution_count": 100,
     "metadata": {},
     "output_type": "execute_result"
    }
   ],
   "source": [
    "y_test"
   ]
  },
  {
   "cell_type": "markdown",
   "id": "eb49480c",
   "metadata": {},
   "source": [
    "## 模型评估\n",
    "计算MSE\n",
    "### 结果3.711054178016011大于3.143244028934462（全部特征评估）"
   ]
  },
  {
   "cell_type": "code",
   "execution_count": 101,
   "id": "824b4740",
   "metadata": {},
   "outputs": [],
   "source": [
    "# 残差\n",
    "deviation = lin_reg.predict(X_test) - y_test"
   ]
  },
  {
   "cell_type": "code",
   "execution_count": 102,
   "id": "368fa3d2",
   "metadata": {},
   "outputs": [
    {
     "data": {
      "text/plain": [
       "3.711054178016011"
      ]
     },
     "execution_count": 102,
     "metadata": {},
     "output_type": "execute_result"
    }
   ],
   "source": [
    "MSE = np.sum(np.sqrt(deviation * deviation))/102\n",
    "MSE"
   ]
  },
  {
   "cell_type": "markdown",
   "id": "bbc9a24e",
   "metadata": {},
   "source": [
    "## 数据可视化"
   ]
  },
  {
   "cell_type": "code",
   "execution_count": 103,
   "id": "f84f5341",
   "metadata": {},
   "outputs": [
    {
     "data": {
      "image/png": "[encoded data removed]",
      "text/plain": [
       "<Figure size 432x288 with 1 Axes>"
      ]
     },
     "metadata": {},
     "output_type": "display_data"
    }
   ],
   "source": [
    "import matplotlib as mpl\n",
    "#对测试集上的标注值与预测值进行可视化呈现   \n",
    "t = np.arange(len(y_test))\n",
    "mpl.rcParams['font.sans-serif'] = [u'simHei']\n",
    "mpl.rcParams['axes.unicode_minus'] = False\n",
    "plt.figure(facecolor='w')\n",
    "plt.plot(t, y_test, 'r-', lw=2, label=u'true value')\n",
    "plt.plot(t, test_pred, 'b-', lw=2, label=u'estimated')\n",
    "plt.legend(loc = 'best')\n",
    "plt.title(u'Boston house price', fontsize=18)\n",
    "plt.xlabel(u'case id', fontsize=15)\n",
    "plt.ylabel(u'house price', fontsize=15)\n",
    "plt.grid()\n",
    "plt.show()"
   ]
  },
  {
   "cell_type": "markdown",
   "id": "46cc9a0b",
   "metadata": {},
   "source": [
    "### 总体预测结果比选取全部特征差"
   ]
  }
 ],
 "metadata": {
  "kernelspec": {
   "display_name": "Python 3",
   "language": "python",
   "name": "python3"
  },
  "language_info": {
   "codemirror_mode": {
    "name": "ipython",
    "version": 3
   },
   "file_extension": ".py",
   "mimetype": "text/x-python",
   "name": "python",
   "nbconvert_exporter": "python",
   "pygments_lexer": "ipython3",
   "version": "3.8.8"
  }
 },
 "nbformat": 4,
 "nbformat_minor": 5
}
